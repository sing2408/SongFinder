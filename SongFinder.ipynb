{
  "cells": [
    {
      "cell_type": "code",
      "execution_count": null,
      "metadata": {
        "colab": {
          "base_uri": "https://localhost:8080/"
        },
        "id": "jwqiYs5tRGBP",
        "outputId": "dbbf6d8a-21ee-4c35-ef95-0918fbf6160c"
      },
      "outputs": [
        {
          "output_type": "stream",
          "name": "stdout",
          "text": [
            "Looking in indexes: https://pypi.org/simple, https://us-python.pkg.dev/colab-wheels/public/simple/\n",
            "Collecting fuzzywuzzy\n",
            "  Downloading fuzzywuzzy-0.18.0-py2.py3-none-any.whl (18 kB)\n",
            "Installing collected packages: fuzzywuzzy\n",
            "Successfully installed fuzzywuzzy-0.18.0\n"
          ]
        }
      ],
      "source": [
        "!pip install fuzzywuzzy"
      ]
    },
    {
      "cell_type": "code",
      "source": [
        "!pip install torch torchaudio"
      ],
      "metadata": {
        "colab": {
          "base_uri": "https://localhost:8080/"
        },
        "id": "szK-aUoorZIV",
        "outputId": "a15d2ab6-2065-4cb6-99b3-21ef67571b38"
      },
      "execution_count": null,
      "outputs": [
        {
          "output_type": "stream",
          "name": "stdout",
          "text": [
            "Looking in indexes: https://pypi.org/simple, https://us-python.pkg.dev/colab-wheels/public/simple/\n",
            "Requirement already satisfied: torch in /usr/local/lib/python3.10/dist-packages (2.0.1+cu118)\n",
            "Requirement already satisfied: torchaudio in /usr/local/lib/python3.10/dist-packages (2.0.2+cu118)\n",
            "Requirement already satisfied: filelock in /usr/local/lib/python3.10/dist-packages (from torch) (3.12.0)\n",
            "Requirement already satisfied: typing-extensions in /usr/local/lib/python3.10/dist-packages (from torch) (4.5.0)\n",
            "Requirement already satisfied: sympy in /usr/local/lib/python3.10/dist-packages (from torch) (1.11.1)\n",
            "Requirement already satisfied: networkx in /usr/local/lib/python3.10/dist-packages (from torch) (3.1)\n",
            "Requirement already satisfied: jinja2 in /usr/local/lib/python3.10/dist-packages (from torch) (3.1.2)\n",
            "Requirement already satisfied: triton==2.0.0 in /usr/local/lib/python3.10/dist-packages (from torch) (2.0.0)\n",
            "Requirement already satisfied: cmake in /usr/local/lib/python3.10/dist-packages (from triton==2.0.0->torch) (3.25.2)\n",
            "Requirement already satisfied: lit in /usr/local/lib/python3.10/dist-packages (from triton==2.0.0->torch) (16.0.5)\n",
            "Requirement already satisfied: MarkupSafe>=2.0 in /usr/local/lib/python3.10/dist-packages (from jinja2->torch) (2.1.2)\n",
            "Requirement already satisfied: mpmath>=0.19 in /usr/local/lib/python3.10/dist-packages (from sympy->torch) (1.3.0)\n"
          ]
        }
      ]
    },
    {
      "cell_type": "code",
      "source": [
        "!pip install transformers"
      ],
      "metadata": {
        "colab": {
          "base_uri": "https://localhost:8080/"
        },
        "id": "GLjyz8mqrcqt",
        "outputId": "a553c270-21bf-47f3-e4e5-6a369db9c400"
      },
      "execution_count": null,
      "outputs": [
        {
          "output_type": "stream",
          "name": "stdout",
          "text": [
            "Looking in indexes: https://pypi.org/simple, https://us-python.pkg.dev/colab-wheels/public/simple/\n",
            "Collecting transformers\n",
            "  Downloading transformers-4.30.1-py3-none-any.whl (7.2 MB)\n",
            "\u001b[2K     \u001b[90m━━━━━━━━━━━━━━━━━━━━━━━━━━━━━━━━━━━━━━━━\u001b[0m \u001b[32m7.2/7.2 MB\u001b[0m \u001b[31m48.8 MB/s\u001b[0m eta \u001b[36m0:00:00\u001b[0m\n",
            "\u001b[?25hRequirement already satisfied: filelock in /usr/local/lib/python3.10/dist-packages (from transformers) (3.12.0)\n",
            "Collecting huggingface-hub<1.0,>=0.14.1 (from transformers)\n",
            "  Downloading huggingface_hub-0.15.1-py3-none-any.whl (236 kB)\n",
            "\u001b[2K     \u001b[90m━━━━━━━━━━━━━━━━━━━━━━━━━━━━━━━━━━━━━━\u001b[0m \u001b[32m236.8/236.8 kB\u001b[0m \u001b[31m20.6 MB/s\u001b[0m eta \u001b[36m0:00:00\u001b[0m\n",
            "\u001b[?25hRequirement already satisfied: numpy>=1.17 in /usr/local/lib/python3.10/dist-packages (from transformers) (1.22.4)\n",
            "Requirement already satisfied: packaging>=20.0 in /usr/local/lib/python3.10/dist-packages (from transformers) (23.1)\n",
            "Requirement already satisfied: pyyaml>=5.1 in /usr/local/lib/python3.10/dist-packages (from transformers) (6.0)\n",
            "Requirement already satisfied: regex!=2019.12.17 in /usr/local/lib/python3.10/dist-packages (from transformers) (2022.10.31)\n",
            "Requirement already satisfied: requests in /usr/local/lib/python3.10/dist-packages (from transformers) (2.27.1)\n",
            "Collecting tokenizers!=0.11.3,<0.14,>=0.11.1 (from transformers)\n",
            "  Downloading tokenizers-0.13.3-cp310-cp310-manylinux_2_17_x86_64.manylinux2014_x86_64.whl (7.8 MB)\n",
            "\u001b[2K     \u001b[90m━━━━━━━━━━━━━━━━━━━━━━━━━━━━━━━━━━━━━━━━\u001b[0m \u001b[32m7.8/7.8 MB\u001b[0m \u001b[31m93.9 MB/s\u001b[0m eta \u001b[36m0:00:00\u001b[0m\n",
            "\u001b[?25hCollecting safetensors>=0.3.1 (from transformers)\n",
            "  Downloading safetensors-0.3.1-cp310-cp310-manylinux_2_17_x86_64.manylinux2014_x86_64.whl (1.3 MB)\n",
            "\u001b[2K     \u001b[90m━━━━━━━━━━━━━━━━━━━━━━━━━━━━━━━━━━━━━━━━\u001b[0m \u001b[32m1.3/1.3 MB\u001b[0m \u001b[31m62.2 MB/s\u001b[0m eta \u001b[36m0:00:00\u001b[0m\n",
            "\u001b[?25hRequirement already satisfied: tqdm>=4.27 in /usr/local/lib/python3.10/dist-packages (from transformers) (4.65.0)\n",
            "Requirement already satisfied: fsspec in /usr/local/lib/python3.10/dist-packages (from huggingface-hub<1.0,>=0.14.1->transformers) (2023.4.0)\n",
            "Requirement already satisfied: typing-extensions>=3.7.4.3 in /usr/local/lib/python3.10/dist-packages (from huggingface-hub<1.0,>=0.14.1->transformers) (4.5.0)\n",
            "Requirement already satisfied: urllib3<1.27,>=1.21.1 in /usr/local/lib/python3.10/dist-packages (from requests->transformers) (1.26.15)\n",
            "Requirement already satisfied: certifi>=2017.4.17 in /usr/local/lib/python3.10/dist-packages (from requests->transformers) (2022.12.7)\n",
            "Requirement already satisfied: charset-normalizer~=2.0.0 in /usr/local/lib/python3.10/dist-packages (from requests->transformers) (2.0.12)\n",
            "Requirement already satisfied: idna<4,>=2.5 in /usr/local/lib/python3.10/dist-packages (from requests->transformers) (3.4)\n",
            "Installing collected packages: tokenizers, safetensors, huggingface-hub, transformers\n",
            "Successfully installed huggingface-hub-0.15.1 safetensors-0.3.1 tokenizers-0.13.3 transformers-4.30.1\n"
          ]
        }
      ]
    },
    {
      "cell_type": "code",
      "execution_count": null,
      "metadata": {
        "colab": {
          "base_uri": "https://localhost:8080/",
          "height": 557
        },
        "id": "RGTIIEeWLEXx",
        "outputId": "b2413fe1-1edb-460d-9aa8-dde4fcbe155e"
      },
      "outputs": [
        {
          "output_type": "stream",
          "name": "stderr",
          "text": [
            "<ipython-input-34-3b60a70b98d3>:5: FutureWarning: The error_bad_lines argument has been deprecated and will be removed in a future version. Use on_bad_lines in the future.\n",
            "\n",
            "\n",
            "  df = pd.read_csv(\"/content/lyrics.csv\", engine = 'python', encoding='utf-8', error_bad_lines=False)\n"
          ]
        },
        {
          "output_type": "execute_result",
          "data": {
            "text/plain": [
              "       Unnamed: 0                                               link  \\\n",
              "0               0     ../lyrics/backstreetboys/climbingthewalls.html   \n",
              "1               1           ../lyrics/westlife/howtobreakaheart.html   \n",
              "2               2                    ../lyrics/deanmartin/iwill.html   \n",
              "3               3      ../lyrics/deanmartin/tellyourmotherhello.html   \n",
              "4               4           ../lyrics/deanmartin/behonestwithme.html   \n",
              "...           ...                                                ...   \n",
              "25737       25737               ../lyrics/jasonmraz/whatmamasay.html   \n",
              "25738       25738  https://www.azlyrics.com/lyrics/gesaffelstein/...   \n",
              "25739       25739             ../lyrics/jasonmraz/aworldwithyou.html   \n",
              "25740       25740                ../lyrics/jasonmraz/loveisreal.html   \n",
              "25741       25741                   ../lyrics/jasonmraz/gypsymc.html   \n",
              "\n",
              "                       artist               song_name  \\\n",
              "0      Backstreet Boys Lyrics      Climbing The Walls   \n",
              "1             Westlife Lyrics    How To Break A Heart   \n",
              "2          Dean Martin Lyrics                  I Will   \n",
              "3          Dean Martin Lyrics  Tell Your Mother Hello   \n",
              "4          Dean Martin Lyrics       Be Honest With Me   \n",
              "...                       ...                     ...   \n",
              "25737       Jason Mraz Lyrics           What Mama Say   \n",
              "25738    Gesaffelstein Lyrics               Blast Off   \n",
              "25739       Jason Mraz Lyrics        A World With You   \n",
              "25740       Jason Mraz Lyrics            Love Is Real   \n",
              "25741       Jason Mraz Lyrics                Gypsy MC   \n",
              "\n",
              "                                                  lyrics  \n",
              "0      \\n\\n[Brian:]\\nClose your eyes, make a wish\\nTh...  \n",
              "1      \\n\\r\\nSince you're not worth my love\\nI haven'...  \n",
              "2      \\n\\r\\nI don't want to be the one to say I'm go...  \n",
              "3      \\n\\r\\nSure I loved the dear money that shines ...  \n",
              "4      \\n\\r\\nBe honest with me dear whatever you do\\n...  \n",
              "...                                                  ...  \n",
              "25737  \\n\\r\\n(La la da da da da...)\\n\\nWhatever mama ...  \n",
              "25738  \\n\\r\\nYou've been thinking about this all nigh...  \n",
              "25739  \\n\\r\\nLet's hit the road and throw out the map...  \n",
              "25740  \\n\\r\\nLove is real it is not just in novels or...  \n",
              "25741  \\n\\r\\nI'd like to give a shout out to all the ...  \n",
              "\n",
              "[25742 rows x 5 columns]"
            ],
            "text/html": [
              "\n",
              "  <div id=\"df-1f7dd80e-566c-4cc7-86d0-f19687c167d6\">\n",
              "    <div class=\"colab-df-container\">\n",
              "      <div>\n",
              "<style scoped>\n",
              "    .dataframe tbody tr th:only-of-type {\n",
              "        vertical-align: middle;\n",
              "    }\n",
              "\n",
              "    .dataframe tbody tr th {\n",
              "        vertical-align: top;\n",
              "    }\n",
              "\n",
              "    .dataframe thead th {\n",
              "        text-align: right;\n",
              "    }\n",
              "</style>\n",
              "<table border=\"1\" class=\"dataframe\">\n",
              "  <thead>\n",
              "    <tr style=\"text-align: right;\">\n",
              "      <th></th>\n",
              "      <th>Unnamed: 0</th>\n",
              "      <th>link</th>\n",
              "      <th>artist</th>\n",
              "      <th>song_name</th>\n",
              "      <th>lyrics</th>\n",
              "    </tr>\n",
              "  </thead>\n",
              "  <tbody>\n",
              "    <tr>\n",
              "      <th>0</th>\n",
              "      <td>0</td>\n",
              "      <td>../lyrics/backstreetboys/climbingthewalls.html</td>\n",
              "      <td>Backstreet Boys Lyrics</td>\n",
              "      <td>Climbing The Walls</td>\n",
              "      <td>\\n\\n[Brian:]\\nClose your eyes, make a wish\\nTh...</td>\n",
              "    </tr>\n",
              "    <tr>\n",
              "      <th>1</th>\n",
              "      <td>1</td>\n",
              "      <td>../lyrics/westlife/howtobreakaheart.html</td>\n",
              "      <td>Westlife Lyrics</td>\n",
              "      <td>How To Break A Heart</td>\n",
              "      <td>\\n\\r\\nSince you're not worth my love\\nI haven'...</td>\n",
              "    </tr>\n",
              "    <tr>\n",
              "      <th>2</th>\n",
              "      <td>2</td>\n",
              "      <td>../lyrics/deanmartin/iwill.html</td>\n",
              "      <td>Dean Martin Lyrics</td>\n",
              "      <td>I Will</td>\n",
              "      <td>\\n\\r\\nI don't want to be the one to say I'm go...</td>\n",
              "    </tr>\n",
              "    <tr>\n",
              "      <th>3</th>\n",
              "      <td>3</td>\n",
              "      <td>../lyrics/deanmartin/tellyourmotherhello.html</td>\n",
              "      <td>Dean Martin Lyrics</td>\n",
              "      <td>Tell Your Mother Hello</td>\n",
              "      <td>\\n\\r\\nSure I loved the dear money that shines ...</td>\n",
              "    </tr>\n",
              "    <tr>\n",
              "      <th>4</th>\n",
              "      <td>4</td>\n",
              "      <td>../lyrics/deanmartin/behonestwithme.html</td>\n",
              "      <td>Dean Martin Lyrics</td>\n",
              "      <td>Be Honest With Me</td>\n",
              "      <td>\\n\\r\\nBe honest with me dear whatever you do\\n...</td>\n",
              "    </tr>\n",
              "    <tr>\n",
              "      <th>...</th>\n",
              "      <td>...</td>\n",
              "      <td>...</td>\n",
              "      <td>...</td>\n",
              "      <td>...</td>\n",
              "      <td>...</td>\n",
              "    </tr>\n",
              "    <tr>\n",
              "      <th>25737</th>\n",
              "      <td>25737</td>\n",
              "      <td>../lyrics/jasonmraz/whatmamasay.html</td>\n",
              "      <td>Jason Mraz Lyrics</td>\n",
              "      <td>What Mama Say</td>\n",
              "      <td>\\n\\r\\n(La la da da da da...)\\n\\nWhatever mama ...</td>\n",
              "    </tr>\n",
              "    <tr>\n",
              "      <th>25738</th>\n",
              "      <td>25738</td>\n",
              "      <td>https://www.azlyrics.com/lyrics/gesaffelstein/...</td>\n",
              "      <td>Gesaffelstein Lyrics</td>\n",
              "      <td>Blast Off</td>\n",
              "      <td>\\n\\r\\nYou've been thinking about this all nigh...</td>\n",
              "    </tr>\n",
              "    <tr>\n",
              "      <th>25739</th>\n",
              "      <td>25739</td>\n",
              "      <td>../lyrics/jasonmraz/aworldwithyou.html</td>\n",
              "      <td>Jason Mraz Lyrics</td>\n",
              "      <td>A World With You</td>\n",
              "      <td>\\n\\r\\nLet's hit the road and throw out the map...</td>\n",
              "    </tr>\n",
              "    <tr>\n",
              "      <th>25740</th>\n",
              "      <td>25740</td>\n",
              "      <td>../lyrics/jasonmraz/loveisreal.html</td>\n",
              "      <td>Jason Mraz Lyrics</td>\n",
              "      <td>Love Is Real</td>\n",
              "      <td>\\n\\r\\nLove is real it is not just in novels or...</td>\n",
              "    </tr>\n",
              "    <tr>\n",
              "      <th>25741</th>\n",
              "      <td>25741</td>\n",
              "      <td>../lyrics/jasonmraz/gypsymc.html</td>\n",
              "      <td>Jason Mraz Lyrics</td>\n",
              "      <td>Gypsy MC</td>\n",
              "      <td>\\n\\r\\nI'd like to give a shout out to all the ...</td>\n",
              "    </tr>\n",
              "  </tbody>\n",
              "</table>\n",
              "<p>25742 rows × 5 columns</p>\n",
              "</div>\n",
              "      <button class=\"colab-df-convert\" onclick=\"convertToInteractive('df-1f7dd80e-566c-4cc7-86d0-f19687c167d6')\"\n",
              "              title=\"Convert this dataframe to an interactive table.\"\n",
              "              style=\"display:none;\">\n",
              "        \n",
              "  <svg xmlns=\"http://www.w3.org/2000/svg\" height=\"24px\"viewBox=\"0 0 24 24\"\n",
              "       width=\"24px\">\n",
              "    <path d=\"M0 0h24v24H0V0z\" fill=\"none\"/>\n",
              "    <path d=\"M18.56 5.44l.94 2.06.94-2.06 2.06-.94-2.06-.94-.94-2.06-.94 2.06-2.06.94zm-11 1L8.5 8.5l.94-2.06 2.06-.94-2.06-.94L8.5 2.5l-.94 2.06-2.06.94zm10 10l.94 2.06.94-2.06 2.06-.94-2.06-.94-.94-2.06-.94 2.06-2.06.94z\"/><path d=\"M17.41 7.96l-1.37-1.37c-.4-.4-.92-.59-1.43-.59-.52 0-1.04.2-1.43.59L10.3 9.45l-7.72 7.72c-.78.78-.78 2.05 0 2.83L4 21.41c.39.39.9.59 1.41.59.51 0 1.02-.2 1.41-.59l7.78-7.78 2.81-2.81c.8-.78.8-2.07 0-2.86zM5.41 20L4 18.59l7.72-7.72 1.47 1.35L5.41 20z\"/>\n",
              "  </svg>\n",
              "      </button>\n",
              "      \n",
              "  <style>\n",
              "    .colab-df-container {\n",
              "      display:flex;\n",
              "      flex-wrap:wrap;\n",
              "      gap: 12px;\n",
              "    }\n",
              "\n",
              "    .colab-df-convert {\n",
              "      background-color: #E8F0FE;\n",
              "      border: none;\n",
              "      border-radius: 50%;\n",
              "      cursor: pointer;\n",
              "      display: none;\n",
              "      fill: #1967D2;\n",
              "      height: 32px;\n",
              "      padding: 0 0 0 0;\n",
              "      width: 32px;\n",
              "    }\n",
              "\n",
              "    .colab-df-convert:hover {\n",
              "      background-color: #E2EBFA;\n",
              "      box-shadow: 0px 1px 2px rgba(60, 64, 67, 0.3), 0px 1px 3px 1px rgba(60, 64, 67, 0.15);\n",
              "      fill: #174EA6;\n",
              "    }\n",
              "\n",
              "    [theme=dark] .colab-df-convert {\n",
              "      background-color: #3B4455;\n",
              "      fill: #D2E3FC;\n",
              "    }\n",
              "\n",
              "    [theme=dark] .colab-df-convert:hover {\n",
              "      background-color: #434B5C;\n",
              "      box-shadow: 0px 1px 3px 1px rgba(0, 0, 0, 0.15);\n",
              "      filter: drop-shadow(0px 1px 2px rgba(0, 0, 0, 0.3));\n",
              "      fill: #FFFFFF;\n",
              "    }\n",
              "  </style>\n",
              "\n",
              "      <script>\n",
              "        const buttonEl =\n",
              "          document.querySelector('#df-1f7dd80e-566c-4cc7-86d0-f19687c167d6 button.colab-df-convert');\n",
              "        buttonEl.style.display =\n",
              "          google.colab.kernel.accessAllowed ? 'block' : 'none';\n",
              "\n",
              "        async function convertToInteractive(key) {\n",
              "          const element = document.querySelector('#df-1f7dd80e-566c-4cc7-86d0-f19687c167d6');\n",
              "          const dataTable =\n",
              "            await google.colab.kernel.invokeFunction('convertToInteractive',\n",
              "                                                     [key], {});\n",
              "          if (!dataTable) return;\n",
              "\n",
              "          const docLinkHtml = 'Like what you see? Visit the ' +\n",
              "            '<a target=\"_blank\" href=https://colab.research.google.com/notebooks/data_table.ipynb>data table notebook</a>'\n",
              "            + ' to learn more about interactive tables.';\n",
              "          element.innerHTML = '';\n",
              "          dataTable['output_type'] = 'display_data';\n",
              "          await google.colab.output.renderOutput(dataTable, element);\n",
              "          const docLink = document.createElement('div');\n",
              "          docLink.innerHTML = docLinkHtml;\n",
              "          element.appendChild(docLink);\n",
              "        }\n",
              "      </script>\n",
              "    </div>\n",
              "  </div>\n",
              "  "
            ]
          },
          "metadata": {},
          "execution_count": 34
        }
      ],
      "source": [
        "import pandas as pd\n",
        "from fuzzywuzzy import fuzz\n",
        "from fuzzywuzzy import process\n",
        "import matplotlib.pyplot as plt\n",
        "df = pd.read_csv(\"/content/lyrics.csv\", engine = 'python', encoding='utf-8', error_bad_lines=False)\n",
        "df"
      ]
    },
    {
      "cell_type": "code",
      "source": [
        "df = df.drop(df.columns[0], axis=1)"
      ],
      "metadata": {
        "id": "VeuYYaraC9K4"
      },
      "execution_count": null,
      "outputs": []
    },
    {
      "cell_type": "markdown",
      "source": [
        "RECORD AUDIO"
      ],
      "metadata": {
        "id": "KXFEUFxStFLu"
      }
    },
    {
      "cell_type": "code",
      "source": [
        "!pip install ffmpeg-python"
      ],
      "metadata": {
        "id": "1DA43NgArSmr"
      },
      "execution_count": null,
      "outputs": []
    },
    {
      "cell_type": "code",
      "source": [
        "from IPython.display import HTML, Audio\n",
        "from google.colab.output import eval_js\n",
        "from base64 import b64decode\n",
        "import numpy as np\n",
        "from scipy.io.wavfile import read as wav_read\n",
        "import io\n",
        "import ffmpeg\n",
        "\n",
        "AUDIO_HTML = \"\"\"\n",
        "<script>\n",
        "var my_div = document.createElement(\"DIV\");\n",
        "var my_p = document.createElement(\"P\");\n",
        "var my_btn = document.createElement(\"BUTTON\");\n",
        "var t = document.createTextNode(\"Press to start recording\");\n",
        "\n",
        "my_btn.appendChild(t);\n",
        "//my_p.appendChild(my_btn);\n",
        "my_div.appendChild(my_btn);\n",
        "document.body.appendChild(my_div);\n",
        "\n",
        "var base64data = 0;\n",
        "var reader;\n",
        "var recorder, gumStream;\n",
        "var recordButton = my_btn;\n",
        "\n",
        "var handleSuccess = function(stream) {\n",
        "  gumStream = stream;\n",
        "  var options = {\n",
        "    //bitsPerSecond: 8000, //chrome seems to ignore, always 48k\n",
        "    mimeType : 'audio/webm;codecs=opus'\n",
        "    //mimeType : 'audio/webm;codecs=pcm'\n",
        "  };\n",
        "  //recorder = new MediaRecorder(stream, options);\n",
        "  recorder = new MediaRecorder(stream);\n",
        "  recorder.ondataavailable = function(e) {\n",
        "    var url = URL.createObjectURL(e.data);\n",
        "    var preview = document.createElement('audio');\n",
        "    preview.controls = true;\n",
        "    preview.src = url;\n",
        "    document.body.appendChild(preview);\n",
        "\n",
        "    reader = new FileReader();\n",
        "    reader.readAsDataURL(e.data);\n",
        "    reader.onloadend = function() {\n",
        "      base64data = reader.result;\n",
        "      //console.log(\"Inside FileReader:\" + base64data);\n",
        "    }\n",
        "  };\n",
        "  recorder.start();\n",
        "  };\n",
        "\n",
        "recordButton.innerText = \"Recording... press to stop\";\n",
        "\n",
        "navigator.mediaDevices.getUserMedia({audio: true}).then(handleSuccess);\n",
        "\n",
        "\n",
        "function toggleRecording() {\n",
        "  if (recorder && recorder.state == \"recording\") {\n",
        "      recorder.stop();\n",
        "      gumStream.getAudioTracks()[0].stop();\n",
        "      recordButton.innerText = \"Saving the recording... pls wait!\"\n",
        "  }\n",
        "}\n",
        "\n",
        "// https://stackoverflow.com/a/951057\n",
        "function sleep(ms) {\n",
        "  return new Promise(resolve => setTimeout(resolve, ms));\n",
        "}\n",
        "\n",
        "var data = new Promise(resolve=>{\n",
        "//recordButton.addEventListener(\"click\", toggleRecording);\n",
        "recordButton.onclick = ()=>{\n",
        "toggleRecording()\n",
        "\n",
        "sleep(2000).then(() => {\n",
        "  // wait 2000ms for the data to be available...\n",
        "  // ideally this should use something like await...\n",
        "  //console.log(\"Inside data:\" + base64data)\n",
        "  resolve(base64data.toString())\n",
        "\n",
        "});\n",
        "\n",
        "}\n",
        "});\n",
        "\n",
        "</script>\n",
        "\"\"\"\n",
        "\n",
        "def get_audio():\n",
        "  display(HTML(AUDIO_HTML))\n",
        "  data = eval_js(\"data\")\n",
        "  binary = b64decode(data.split(',')[1])\n",
        "\n",
        "  process = (ffmpeg\n",
        "    .input('pipe:0')\n",
        "    .output('pipe:1', format='wav')\n",
        "    .run_async(pipe_stdin=True, pipe_stdout=True, pipe_stderr=True, quiet=True, overwrite_output=True)\n",
        "  )\n",
        "  output, err = process.communicate(input=binary)\n",
        "\n",
        "  riff_chunk_size = len(output) - 8\n",
        "  # Break up the chunk size into four bytes, held in b.\n",
        "  q = riff_chunk_size\n",
        "  b = []\n",
        "  for i in range(4):\n",
        "      q, r = divmod(q, 256)\n",
        "      b.append(r)\n",
        "\n",
        "  # Replace bytes 4:8 in proc.stdout with the actual size of the RIFF chunk.\n",
        "  riff = output[:4] + bytes(b) + output[8:]\n",
        "\n",
        "  sr, audio = wav_read(io.BytesIO(riff))\n",
        "\n",
        "  return audio, sr"
      ],
      "metadata": {
        "id": "bD_4Qu3QtDdg"
      },
      "execution_count": null,
      "outputs": []
    },
    {
      "cell_type": "code",
      "source": [
        "import scipy"
      ],
      "metadata": {
        "id": "OdvBUq7JEIbJ"
      },
      "execution_count": null,
      "outputs": []
    },
    {
      "cell_type": "code",
      "source": [
        "audio, sr = get_audio()\n",
        "scipy.io.wavfile.write('recording.wav', sr, audio)"
      ],
      "metadata": {
        "colab": {
          "base_uri": "https://localhost:8080/",
          "height": 97
        },
        "id": "qawN7f901vIb",
        "outputId": "e4d6abb5-0a23-41ea-d682-21648ab39289"
      },
      "execution_count": null,
      "outputs": [
        {
          "output_type": "display_data",
          "data": {
            "text/plain": [
              "<IPython.core.display.HTML object>"
            ],
            "text/html": [
              "\n",
              "<script>\n",
              "var my_div = document.createElement(\"DIV\");\n",
              "var my_p = document.createElement(\"P\");\n",
              "var my_btn = document.createElement(\"BUTTON\");\n",
              "var t = document.createTextNode(\"Press to start recording\");\n",
              "\n",
              "my_btn.appendChild(t);\n",
              "//my_p.appendChild(my_btn);\n",
              "my_div.appendChild(my_btn);\n",
              "document.body.appendChild(my_div);\n",
              "\n",
              "var base64data = 0;\n",
              "var reader;\n",
              "var recorder, gumStream;\n",
              "var recordButton = my_btn;\n",
              "\n",
              "var handleSuccess = function(stream) {\n",
              "  gumStream = stream;\n",
              "  var options = {\n",
              "    //bitsPerSecond: 8000, //chrome seems to ignore, always 48k\n",
              "    mimeType : 'audio/webm;codecs=opus'\n",
              "    //mimeType : 'audio/webm;codecs=pcm'\n",
              "  };            \n",
              "  //recorder = new MediaRecorder(stream, options);\n",
              "  recorder = new MediaRecorder(stream);\n",
              "  recorder.ondataavailable = function(e) {            \n",
              "    var url = URL.createObjectURL(e.data);\n",
              "    var preview = document.createElement('audio');\n",
              "    preview.controls = true;\n",
              "    preview.src = url;\n",
              "    document.body.appendChild(preview);\n",
              "\n",
              "    reader = new FileReader();\n",
              "    reader.readAsDataURL(e.data); \n",
              "    reader.onloadend = function() {\n",
              "      base64data = reader.result;\n",
              "      //console.log(\"Inside FileReader:\" + base64data);\n",
              "    }\n",
              "  };\n",
              "  recorder.start();\n",
              "  };\n",
              "\n",
              "recordButton.innerText = \"Recording... press to stop\";\n",
              "\n",
              "navigator.mediaDevices.getUserMedia({audio: true}).then(handleSuccess);\n",
              "\n",
              "\n",
              "function toggleRecording() {\n",
              "  if (recorder && recorder.state == \"recording\") {\n",
              "      recorder.stop();\n",
              "      gumStream.getAudioTracks()[0].stop();\n",
              "      recordButton.innerText = \"Saving the recording... pls wait!\"\n",
              "  }\n",
              "}\n",
              "\n",
              "// https://stackoverflow.com/a/951057\n",
              "function sleep(ms) {\n",
              "  return new Promise(resolve => setTimeout(resolve, ms));\n",
              "}\n",
              "\n",
              "var data = new Promise(resolve=>{\n",
              "//recordButton.addEventListener(\"click\", toggleRecording);\n",
              "recordButton.onclick = ()=>{\n",
              "toggleRecording()\n",
              "\n",
              "sleep(2000).then(() => {\n",
              "  // wait 2000ms for the data to be available...\n",
              "  // ideally this should use something like await...\n",
              "  //console.log(\"Inside data:\" + base64data)\n",
              "  resolve(base64data.toString())\n",
              "\n",
              "});\n",
              "\n",
              "}\n",
              "});\n",
              "      \n",
              "</script>\n"
            ]
          },
          "metadata": {}
        }
      ]
    },
    {
      "cell_type": "code",
      "source": [
        "!pip install speechrecognition"
      ],
      "metadata": {
        "colab": {
          "base_uri": "https://localhost:8080/"
        },
        "id": "eEKIrTz14Qjv",
        "outputId": "1bd3de58-504b-4a6d-c486-0aef1feae2ce"
      },
      "execution_count": null,
      "outputs": [
        {
          "output_type": "stream",
          "name": "stdout",
          "text": [
            "Looking in indexes: https://pypi.org/simple, https://us-python.pkg.dev/colab-wheels/public/simple/\n",
            "Collecting speechrecognition\n",
            "  Downloading SpeechRecognition-3.10.0-py2.py3-none-any.whl (32.8 MB)\n",
            "\u001b[2K     \u001b[90m━━━━━━━━━━━━━━━━━━━━━━━━━━━━━━━━━━━━━━━━\u001b[0m \u001b[32m32.8/32.8 MB\u001b[0m \u001b[31m32.1 MB/s\u001b[0m eta \u001b[36m0:00:00\u001b[0m\n",
            "\u001b[?25hRequirement already satisfied: requests>=2.26.0 in /usr/local/lib/python3.10/dist-packages (from speechrecognition) (2.27.1)\n",
            "Requirement already satisfied: urllib3<1.27,>=1.21.1 in /usr/local/lib/python3.10/dist-packages (from requests>=2.26.0->speechrecognition) (1.26.15)\n",
            "Requirement already satisfied: certifi>=2017.4.17 in /usr/local/lib/python3.10/dist-packages (from requests>=2.26.0->speechrecognition) (2022.12.7)\n",
            "Requirement already satisfied: charset-normalizer~=2.0.0 in /usr/local/lib/python3.10/dist-packages (from requests>=2.26.0->speechrecognition) (2.0.12)\n",
            "Requirement already satisfied: idna<4,>=2.5 in /usr/local/lib/python3.10/dist-packages (from requests>=2.26.0->speechrecognition) (3.4)\n",
            "Installing collected packages: speechrecognition\n",
            "Successfully installed speechrecognition-3.10.0\n"
          ]
        }
      ]
    },
    {
      "cell_type": "code",
      "source": [
        "!pip install gtts"
      ],
      "metadata": {
        "colab": {
          "base_uri": "https://localhost:8080/"
        },
        "id": "cTdTDxlI52GG",
        "outputId": "84af4d74-a23a-43e7-914b-5d3173bb7f17"
      },
      "execution_count": null,
      "outputs": [
        {
          "output_type": "stream",
          "name": "stdout",
          "text": [
            "Looking in indexes: https://pypi.org/simple, https://us-python.pkg.dev/colab-wheels/public/simple/\n",
            "Collecting gtts\n",
            "  Downloading gTTS-2.3.2-py3-none-any.whl (28 kB)\n",
            "Requirement already satisfied: requests<3,>=2.27 in /usr/local/lib/python3.10/dist-packages (from gtts) (2.27.1)\n",
            "Requirement already satisfied: click<8.2,>=7.1 in /usr/local/lib/python3.10/dist-packages (from gtts) (8.1.3)\n",
            "Requirement already satisfied: urllib3<1.27,>=1.21.1 in /usr/local/lib/python3.10/dist-packages (from requests<3,>=2.27->gtts) (1.26.15)\n",
            "Requirement already satisfied: certifi>=2017.4.17 in /usr/local/lib/python3.10/dist-packages (from requests<3,>=2.27->gtts) (2022.12.7)\n",
            "Requirement already satisfied: charset-normalizer~=2.0.0 in /usr/local/lib/python3.10/dist-packages (from requests<3,>=2.27->gtts) (2.0.12)\n",
            "Requirement already satisfied: idna<4,>=2.5 in /usr/local/lib/python3.10/dist-packages (from requests<3,>=2.27->gtts) (3.4)\n",
            "Installing collected packages: gtts\n",
            "Successfully installed gtts-2.3.2\n"
          ]
        }
      ]
    },
    {
      "cell_type": "code",
      "source": [
        "from gtts import gTTS\n",
        "from IPython.display import Audio"
      ],
      "metadata": {
        "id": "Py0uHke054nD"
      },
      "execution_count": null,
      "outputs": []
    },
    {
      "cell_type": "code",
      "source": [
        "import speech_recognition as sr\n",
        "r = sr.Recognizer()\n",
        "suara = sr.AudioFile('/content/recording.wav')\n",
        "with suara as source:\n",
        "  audio = r.record(source)\n",
        "Sample_lyrics = r.recognize_google(audio, language='en-EN')\n",
        "lirik = df[['artist','lyrics']].values\n",
        "df['match_score'] = df['lyrics'].apply(lambda x: fuzz.partial_ratio(x, Sample_lyrics))\n",
        "sorted_df = df.sort_values('match_score', ascending=False)\n",
        "sorted_df[0:3]\n",
        "tts = gTTS(f'The most simmilar song to your search is :{sorted_df.song_name[0:1].values[0]} by {sorted_df.artist[0:1].values[0]} with a match score of {sorted_df.match_score[0:1].values[0]}')\n",
        "tts.save('1.wav')\n",
        "sound_file = '1.wav'\n",
        "Audio(sound_file, autoplay=True)"
      ],
      "metadata": {
        "colab": {
          "base_uri": "https://localhost:8080/",
          "height": 76
        },
        "id": "6zCKuqPF4XLM",
        "outputId": "494c840d-f989-4225-b1b9-8d49c484c04c"
      },
      "execution_count": null,
      "outputs": [
        {
          "output_type": "execute_result",
          "data": {
            "text/plain": [
              "<IPython.lib.display.Audio object>"
            ],
            "text/html": [
              "\n",
              "                <audio  controls=\"controls\" autoplay=\"autoplay\">\n",
              "                    <source src=\"data:audio/x-wav;base64,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\" type=\"audio/x-wav\" />\n",
              "                    Your browser does not support the audio element.\n",
              "                </audio>\n",
              "              "
            ]
          },
          "metadata": {},
          "execution_count": 30
        }
      ]
    },
    {
      "cell_type": "code",
      "source": [
        "sorted_df[0:3]"
      ],
      "metadata": {
        "colab": {
          "base_uri": "https://localhost:8080/",
          "height": 257
        },
        "id": "5_5asSrN6b-3",
        "outputId": "a7f29bb8-de41-4dbb-f7a8-60860676825c"
      },
      "execution_count": null,
      "outputs": [
        {
          "output_type": "execute_result",
          "data": {
            "text/plain": [
              "       Unnamed: 0                                               link  \\\n",
              "6499         6499  ../lyrics/charlieputh/seeyouagainpianodemovers...   \n",
              "6467         6467  https://www.azlyrics.com/lyrics/wizkhalifa/see...   \n",
              "22927       22927                     ../lyrics/macmiller/right.html   \n",
              "\n",
              "                    artist                           song_name  \\\n",
              "6499   Charlie Puth Lyrics  See You Again (Piano Demo Version)   \n",
              "6467    Wiz Khalifa Lyrics                       See You Again   \n",
              "22927    Mac Miller Lyrics                               Right   \n",
              "\n",
              "                                                  lyrics  match_score  \n",
              "6499   \\n\\r\\nIt's been a long day without you, my fri...           98  \n",
              "6467   \\n\\n[Charlie Puth:]\\nIt's been a long day with...           98  \n",
              "22927  \\n\\r\\nYeah, it's been a while without your fac...           67  "
            ],
            "text/html": [
              "\n",
              "  <div id=\"df-e921b98f-118a-4fbb-a777-feb49c18e715\">\n",
              "    <div class=\"colab-df-container\">\n",
              "      <div>\n",
              "<style scoped>\n",
              "    .dataframe tbody tr th:only-of-type {\n",
              "        vertical-align: middle;\n",
              "    }\n",
              "\n",
              "    .dataframe tbody tr th {\n",
              "        vertical-align: top;\n",
              "    }\n",
              "\n",
              "    .dataframe thead th {\n",
              "        text-align: right;\n",
              "    }\n",
              "</style>\n",
              "<table border=\"1\" class=\"dataframe\">\n",
              "  <thead>\n",
              "    <tr style=\"text-align: right;\">\n",
              "      <th></th>\n",
              "      <th>Unnamed: 0</th>\n",
              "      <th>link</th>\n",
              "      <th>artist</th>\n",
              "      <th>song_name</th>\n",
              "      <th>lyrics</th>\n",
              "      <th>match_score</th>\n",
              "    </tr>\n",
              "  </thead>\n",
              "  <tbody>\n",
              "    <tr>\n",
              "      <th>6499</th>\n",
              "      <td>6499</td>\n",
              "      <td>../lyrics/charlieputh/seeyouagainpianodemovers...</td>\n",
              "      <td>Charlie Puth Lyrics</td>\n",
              "      <td>See You Again (Piano Demo Version)</td>\n",
              "      <td>\\n\\r\\nIt's been a long day without you, my fri...</td>\n",
              "      <td>98</td>\n",
              "    </tr>\n",
              "    <tr>\n",
              "      <th>6467</th>\n",
              "      <td>6467</td>\n",
              "      <td>https://www.azlyrics.com/lyrics/wizkhalifa/see...</td>\n",
              "      <td>Wiz Khalifa Lyrics</td>\n",
              "      <td>See You Again</td>\n",
              "      <td>\\n\\n[Charlie Puth:]\\nIt's been a long day with...</td>\n",
              "      <td>98</td>\n",
              "    </tr>\n",
              "    <tr>\n",
              "      <th>22927</th>\n",
              "      <td>22927</td>\n",
              "      <td>../lyrics/macmiller/right.html</td>\n",
              "      <td>Mac Miller Lyrics</td>\n",
              "      <td>Right</td>\n",
              "      <td>\\n\\r\\nYeah, it's been a while without your fac...</td>\n",
              "      <td>67</td>\n",
              "    </tr>\n",
              "  </tbody>\n",
              "</table>\n",
              "</div>\n",
              "      <button class=\"colab-df-convert\" onclick=\"convertToInteractive('df-e921b98f-118a-4fbb-a777-feb49c18e715')\"\n",
              "              title=\"Convert this dataframe to an interactive table.\"\n",
              "              style=\"display:none;\">\n",
              "        \n",
              "  <svg xmlns=\"http://www.w3.org/2000/svg\" height=\"24px\"viewBox=\"0 0 24 24\"\n",
              "       width=\"24px\">\n",
              "    <path d=\"M0 0h24v24H0V0z\" fill=\"none\"/>\n",
              "    <path d=\"M18.56 5.44l.94 2.06.94-2.06 2.06-.94-2.06-.94-.94-2.06-.94 2.06-2.06.94zm-11 1L8.5 8.5l.94-2.06 2.06-.94-2.06-.94L8.5 2.5l-.94 2.06-2.06.94zm10 10l.94 2.06.94-2.06 2.06-.94-2.06-.94-.94-2.06-.94 2.06-2.06.94z\"/><path d=\"M17.41 7.96l-1.37-1.37c-.4-.4-.92-.59-1.43-.59-.52 0-1.04.2-1.43.59L10.3 9.45l-7.72 7.72c-.78.78-.78 2.05 0 2.83L4 21.41c.39.39.9.59 1.41.59.51 0 1.02-.2 1.41-.59l7.78-7.78 2.81-2.81c.8-.78.8-2.07 0-2.86zM5.41 20L4 18.59l7.72-7.72 1.47 1.35L5.41 20z\"/>\n",
              "  </svg>\n",
              "      </button>\n",
              "      \n",
              "  <style>\n",
              "    .colab-df-container {\n",
              "      display:flex;\n",
              "      flex-wrap:wrap;\n",
              "      gap: 12px;\n",
              "    }\n",
              "\n",
              "    .colab-df-convert {\n",
              "      background-color: #E8F0FE;\n",
              "      border: none;\n",
              "      border-radius: 50%;\n",
              "      cursor: pointer;\n",
              "      display: none;\n",
              "      fill: #1967D2;\n",
              "      height: 32px;\n",
              "      padding: 0 0 0 0;\n",
              "      width: 32px;\n",
              "    }\n",
              "\n",
              "    .colab-df-convert:hover {\n",
              "      background-color: #E2EBFA;\n",
              "      box-shadow: 0px 1px 2px rgba(60, 64, 67, 0.3), 0px 1px 3px 1px rgba(60, 64, 67, 0.15);\n",
              "      fill: #174EA6;\n",
              "    }\n",
              "\n",
              "    [theme=dark] .colab-df-convert {\n",
              "      background-color: #3B4455;\n",
              "      fill: #D2E3FC;\n",
              "    }\n",
              "\n",
              "    [theme=dark] .colab-df-convert:hover {\n",
              "      background-color: #434B5C;\n",
              "      box-shadow: 0px 1px 3px 1px rgba(0, 0, 0, 0.15);\n",
              "      filter: drop-shadow(0px 1px 2px rgba(0, 0, 0, 0.3));\n",
              "      fill: #FFFFFF;\n",
              "    }\n",
              "  </style>\n",
              "\n",
              "      <script>\n",
              "        const buttonEl =\n",
              "          document.querySelector('#df-e921b98f-118a-4fbb-a777-feb49c18e715 button.colab-df-convert');\n",
              "        buttonEl.style.display =\n",
              "          google.colab.kernel.accessAllowed ? 'block' : 'none';\n",
              "\n",
              "        async function convertToInteractive(key) {\n",
              "          const element = document.querySelector('#df-e921b98f-118a-4fbb-a777-feb49c18e715');\n",
              "          const dataTable =\n",
              "            await google.colab.kernel.invokeFunction('convertToInteractive',\n",
              "                                                     [key], {});\n",
              "          if (!dataTable) return;\n",
              "\n",
              "          const docLinkHtml = 'Like what you see? Visit the ' +\n",
              "            '<a target=\"_blank\" href=https://colab.research.google.com/notebooks/data_table.ipynb>data table notebook</a>'\n",
              "            + ' to learn more about interactive tables.';\n",
              "          element.innerHTML = '';\n",
              "          dataTable['output_type'] = 'display_data';\n",
              "          await google.colab.output.renderOutput(dataTable, element);\n",
              "          const docLink = document.createElement('div');\n",
              "          docLink.innerHTML = docLinkHtml;\n",
              "          element.appendChild(docLink);\n",
              "        }\n",
              "      </script>\n",
              "    </div>\n",
              "  </div>\n",
              "  "
            ]
          },
          "metadata": {},
          "execution_count": 36
        }
      ]
    },
    {
      "cell_type": "code",
      "source": [
        "Sample_lyrics"
      ],
      "metadata": {
        "colab": {
          "base_uri": "https://localhost:8080/",
          "height": 36
        },
        "id": "tGg46DynJZVH",
        "outputId": "066d344d-569a-4943-979c-84dca3922eb8"
      },
      "execution_count": null,
      "outputs": [
        {
          "output_type": "execute_result",
          "data": {
            "text/plain": [
              "\"it's been a long day without you my friend\""
            ],
            "application/vnd.google.colaboratory.intrinsic+json": {
              "type": "string"
            }
          },
          "metadata": {},
          "execution_count": 37
        }
      ]
    }
  ],
  "metadata": {
    "colab": {
      "provenance": []
    },
    "kernelspec": {
      "display_name": "Python 3",
      "name": "python3"
    },
    "language_info": {
      "name": "python"
    }
  },
  "nbformat": 4,
  "nbformat_minor": 0
}